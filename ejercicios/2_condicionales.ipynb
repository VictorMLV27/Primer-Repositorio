{
 "cells": [
  {
   "cell_type": "markdown",
   "metadata": {},
   "source": [
    "# Ejercicios: Estructura condicional"
   ]
  },
  {
   "cell_type": "markdown",
   "metadata": {},
   "source": [
    "### Ejercicio 1\n",
    "Escribir un programa que pregunte al usuario su edad y muestre por pantalla si es mayor de edad o no."
   ]
  },
  {
   "cell_type": "code",
   "execution_count": 4,
   "metadata": {},
   "outputs": [
    {
     "name": "stdout",
     "output_type": "stream",
     "text": [
      "Eres menor de edad\n"
     ]
    }
   ],
   "source": [
    "edad = int(input(\"¿Cual es tu edad?\"))\n",
    "if (edad>=18):\n",
    "    print(\"Eres mayor de edad\")\n",
    "\n",
    "else:\n",
    "    print(\"Eres menor de edad\")\n"
   ]
  },
  {
   "cell_type": "markdown",
   "metadata": {},
   "source": [
    "### Ejercicio 2\n",
    "Escribir un programa que almacene una <span style=\"color:#66D9EF\">contraseña</span> en una variable, pregunte al usuario por la <span style=\"color:#66D9EF\">contraseña</span> e imprima por pantalla si la <span style=\"color:#66D9EF\">contraseña</span> introducida por el usuario coincide con la guardada en la variable sin tener en cuenta mayúsculas y minúsculas."
   ]
  },
  {
   "cell_type": "code",
   "execution_count": 60,
   "metadata": {},
   "outputs": [
    {
     "name": "stdout",
     "output_type": "stream",
     "text": [
      "La contraseña es correcta\n"
     ]
    }
   ],
   "source": [
    "contraseña=\"aGoSTo\"\n",
    "x=input(\"¿Cual es la contraseña?\")\n",
    "if(contraseña.lower()==x.lower()):\n",
    "    print(\"La contraseña es correcta\")\n",
    "    \n",
    "else:\n",
    "    print(\"La contrase1ña es incorrecta\")\n",
    "\n"
   ]
  },
  {
   "cell_type": "markdown",
   "metadata": {},
   "source": [
    "### Ejercicio 3\n",
    "Escribir un programa que pida al usuario dos números y muestre por pantalla su división. Si el divisor es cero el programa debe mostrar un error."
   ]
  },
  {
   "cell_type": "code",
   "execution_count": 18,
   "metadata": {},
   "outputs": [
    {
     "name": "stdout",
     "output_type": "stream",
     "text": [
      "SyntaxError\n"
     ]
    }
   ],
   "source": [
    "divisor=float(input(\"¿Cual es tu numero divisor?\"))\n",
    "dividendo=float(input(\"¿Cual es tu numero dividendo?\"))\n",
    "\n",
    "if (divisor==0):\n",
    "    print(\"SyntaxError\")\n",
    "    \n",
    "else:\n",
    "    resultado=dividendo/divisor\n",
    "    print(resultado)\n"
   ]
  },
  {
   "cell_type": "markdown",
   "metadata": {},
   "source": [
    "### Ejercicio 4\n",
    "Escribir un programa que pida al usuario un número entero y muestre por pantalla si es par o impar."
   ]
  },
  {
   "cell_type": "code",
   "execution_count": 20,
   "metadata": {},
   "outputs": [
    {
     "name": "stdout",
     "output_type": "stream",
     "text": [
      "5 es un numero impar\n"
     ]
    }
   ],
   "source": [
    "n=int(input(\"Escribe un numero entero para saber si es par o impar\"))\n",
    "if(n%2==0):\n",
    "    print(n, \"Es un numero par\")\n",
    "\n",
    "else:\n",
    "    print(n, \"es un numero impar\")"
   ]
  },
  {
   "cell_type": "markdown",
   "metadata": {},
   "source": [
    "### Ejercicio 5\n",
    "Para pagar un determinado impuesto se debe ser mayor de 16 años y tener unos ingresos iguales o superiores a $5000 mensuales. Escribir un programa que pregunte al usuario su edad y sus ingresos mensuales y muestre por pantalla si el usuario tiene que pagar o no."
   ]
  },
  {
   "cell_type": "code",
   "execution_count": 22,
   "metadata": {},
   "outputs": [
    {
     "name": "stdout",
     "output_type": "stream",
     "text": [
      "Debes de pagar impusto\n"
     ]
    }
   ],
   "source": [
    "edad=int(input(\"¿Cual es tu edad?\"))\n",
    "ingreso=float(input(\"¿De cuanto es tu ingreso mensual?\"))\n",
    "\n",
    "if(edad>=16 and ingreso>=5000):\n",
    "    print(\"Debes de pagar impusto\")\n",
    "\n",
    "else:\n",
    "    print(\"No debes pagar impuesto\")"
   ]
  },
  {
   "cell_type": "markdown",
   "metadata": {},
   "source": [
    "### Ejercicio 6\n",
    "Los alumnos de un curso se han dividido en dos grupos A y B de acuerdo al sexo y el nombre. El grupo A esta formado por las mujeres con un nombre anterior a la M y los hombres con un nombre posterior a la N y el grupo B por el resto. Escribir un programa que pregunte al usuario su nombre y sexo, y muestre por pantalla el grupo que le corresponde."
   ]
  },
  {
   "cell_type": "code",
   "execution_count": 30,
   "metadata": {},
   "outputs": [
    {
     "name": "stdout",
     "output_type": "stream",
     "text": [
      "Asignado a grupo A\n"
     ]
    }
   ],
   "source": [
    "nombre=(input(\"¿Cual es tu nombre?\"))\n",
    "sexo=input(\"¿Cual es tu sexo?, mujer/hombre\")\n",
    "\n",
    "if(nombre[0]>=\"m\" and sexo==\"mujer\" or nombre[0]>=\"n\" and sexo==\"hombre\"):\n",
    "    print(\"Asignado a grupo A\")\n",
    "\n",
    "else:\n",
    "    print(\"Asignado a grupo B\")\n",
    "    "
   ]
  },
  {
   "cell_type": "markdown",
   "metadata": {},
   "source": [
    "### Ejercicio 7\n",
    "En una determinada empresa, sus empleados son evaluados al final de cada año. Los puntos que pueden obtener en la evaluación comienzan en 0.0 y pueden ir aumentando, traduciéndose en mejores beneficios. Los puntos que pueden conseguir los empleados pueden ser 0.0, 0.4, 0.6 o más, pero no valores intermedios entre las cifras mencionadas. A continuación se muestra una tabla con los niveles correspondientes a cada puntuación. La cantidad de dinero conseguida en cada nivel es de $2,400 multiplicada por la puntuación del nivel.\n",
    "\n",
    "|Nivel|Puntuación|\n",
    "|:-:|:-:|\n",
    "|Inaceptable|0.0|\n",
    "|Aceptable|0.4|\n",
    "|Meritorio|0.6 o más|\n",
    "\n",
    "</center>\n",
    "Escribir un programa que lea la puntuación del usuario e indique su nivel de rendimiento, así como la cantidad de dinero que recibirá el usuario."
   ]
  },
  {
   "cell_type": "code",
   "execution_count": 46,
   "metadata": {},
   "outputs": [],
   "source": [
    "x=float(input(\"¿Cual es tu puntuación?\"))\n",
    "dinero=x*2400\n",
    "\n",
    "if(x==0.0):\n",
    "    print(\"Nivel de rendimiento: Inaceptable, cantiadad de dinero a recibir:\", dinero)\n",
    "    \n",
    "elif(x==0.4):\n",
    "    print(\"Nivel de rendimiento: Aceptable, cantiadad de dinero a recibir:\", dinero)\n",
    "\n",
    "elif(x>=0.6):\n",
    "    print(\"Nivel de rendimiento: Meritorio, cantiadad de dinero a recibir:\", dinero)\n",
    "else:\n",
    "    pass\n"
   ]
  },
  {
   "cell_type": "markdown",
   "metadata": {},
   "source": [
    "### Ejercicio 8\n",
    "Escribir un programa para una empresa que tiene salas de juegos para todas las edades y quiere calcular de forma automática el precio que debe cobrar a sus clientes por entrar. El programa debe preguntar al usuario la edad del cliente y mostrar el precio de la entrada. Si el cliente es menor de 4 años puede entrar gratis, si tiene entre 4 y 18 años debe pagar $5 y si es mayor de 18 años, $10."
   ]
  },
  {
   "cell_type": "code",
   "execution_count": 53,
   "metadata": {},
   "outputs": [
    {
     "name": "stdout",
     "output_type": "stream",
     "text": [
      "Introdusca un valor valido\n"
     ]
    }
   ],
   "source": [
    "edad=int(input(\"¿Cual es tu edad?\"))\n",
    "\n",
    "if(edad<4 and edad>=0):\n",
    "    print(\"Puedes entrar gratis, precio a pagar = $0\")\n",
    "\n",
    "elif(edad>=4 and edad<=18):\n",
    "    print(\"Debes pagar para entrar, precio a pagar = $5\")\n",
    "\n",
    "elif(edad>18):\n",
    "    print(\"Debes pagar para entrar, precio a pagar = $10\")\n",
    "\n",
    "else:\n",
    "    print(\"Introdusca un valor valido\")\n"
   ]
  },
  {
   "cell_type": "markdown",
   "metadata": {},
   "source": [
    "### Ejercicio 9\n",
    "La pizzería Planeta ofrece pizzas vegetarianas y no vegetarianas a sus clientes. Los ingredientes para cada tipo de pizza aparecen a continuación.  \n",
    "\n",
    "* Vegetarianos: Pimiento y tofu.  \n",
    "* No vegetarianos: Peperoni, Jamón y Salmón.  \n",
    "\n",
    "Escribir un programa que pregunte al usuario si quiere una pizza vegetariana o no, y en función de su respuesta le muestre un menú con los ingredientes disponibles para que elija. Solo se puede eligir un ingrediente además de la mozzarella y el tomate que están en todas la pizzas. Al final se debe mostrar por pantalla si la pizza elegida es vegetariana o no y todos los ingredientes que lleva.\n",
    "\n",
    "\n"
   ]
  },
  {
   "cell_type": "code",
   "execution_count": 44,
   "metadata": {},
   "outputs": [
    {
     "name": "stdout",
     "output_type": "stream",
     "text": [
      "ingrese una opción valida\n"
     ]
    }
   ],
   "source": [
    "pizza=input(\"¿Desea una pizza vegetariana?, y/n\")\n",
    "\n",
    "if(pizza==\"y\"):\n",
    "    ingrediente_v=input(\"¿Que ingrediente desea agregar?, 0=Pimiento / 1=Tofu\")\n",
    "    if(ingrediente_v==0):\n",
    "        print(\"La pizza en vegana y sus ingredientes son: Mozzarella, Tomate y Pimiento\")\n",
    "    elif(ingrediente_v==1):\n",
    "        print(\"La pizza en vegana y sus ingredientes son: Mozzarella, Tomate y Tofu\")\n",
    "    else:\n",
    "        print(\"ingrese una opción valida\")\n",
    "\n",
    "elif(pizza==\"n\"):\n",
    "    ingrediente_nv=input(\"¿Que ingrediente desea agregar?, 0=Peperoni / 1=Jamón / 2=Salmón\")\n",
    "    if(ingrediente_nv==0):\n",
    "        print(\"La pizza No es vegana y sus ingredientes son: Mozzarella, Tomate y Peperoni\")\n",
    "    elif(ingrediente_nv==1):\n",
    "        print(\"La pizza No es vegana y sus ingredientes son: Mozzarella, Tomate y Jamón\")\n",
    "    elif(ingrediente_nv==2):\n",
    "        print(\"La pizza No es vegana y sus ingredientes son: Mozzarella, Tomate y Salmón\")\n",
    "    else:\n",
    "        print(\"Ingrese una opción valida\")"
   ]
  }
 ],
 "metadata": {
  "kernelspec": {
   "display_name": "Python 3.10.4 64-bit",
   "language": "python",
   "name": "python3"
  },
  "language_info": {
   "name": "python",
   "version": "3.10.4"
  },
  "orig_nbformat": 4,
  "vscode": {
   "interpreter": {
    "hash": "9524c4952dd211fec7df7c73b3afac2dbc89a267f70352ce6257a0999e7cce99"
   }
  }
 },
 "nbformat": 4,
 "nbformat_minor": 2
}
